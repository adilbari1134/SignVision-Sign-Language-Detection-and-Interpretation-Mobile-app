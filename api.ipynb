{
 "cells": [
  {
   "cell_type": "code",
   "execution_count": 1,
   "metadata": {},
   "outputs": [
    {
     "name": "stdout",
     "output_type": "stream",
     "text": [
      "WARNING:tensorflow:From C:\\Users\\Abdul Sami\\AppData\\Roaming\\Python\\Python311\\site-packages\\keras\\src\\losses.py:2976: The name tf.losses.sparse_softmax_cross_entropy is deprecated. Please use tf.compat.v1.losses.sparse_softmax_cross_entropy instead.\n",
      "\n"
     ]
    }
   ],
   "source": [
    "from flask import Flask, request, jsonify\n",
    "import cv2\n",
    "import numpy as np\n",
    "import os\n",
    "from keras.models import load_model\n",
    "import time\n",
    "import matplotlib.pyplot as plt\n",
    "import logging\n",
    "from flask_cors import CORS\n",
    "import random\n",
    "import base64"
   ]
  },
  {
   "cell_type": "code",
   "execution_count": 2,
   "metadata": {},
   "outputs": [
    {
     "name": "stdout",
     "output_type": "stream",
     "text": [
      "WARNING:tensorflow:From C:\\Users\\Abdul Sami\\AppData\\Roaming\\Python\\Python311\\site-packages\\keras\\src\\backend.py:1398: The name tf.executing_eagerly_outside_functions is deprecated. Please use tf.compat.v1.executing_eagerly_outside_functions instead.\n",
      "\n",
      "WARNING:tensorflow:From C:\\Users\\Abdul Sami\\AppData\\Roaming\\Python\\Python311\\site-packages\\keras\\src\\layers\\normalization\\batch_normalization.py:979: The name tf.nn.fused_batch_norm is deprecated. Please use tf.compat.v1.nn.fused_batch_norm instead.\n",
      "\n"
     ]
    }
   ],
   "source": [
    "model_path = r'D:\\app\\models\\action_recognition_model.h5'\n",
    "detection = load_model(model_path)"
   ]
  },
  {
   "cell_type": "code",
   "execution_count": 3,
   "metadata": {},
   "outputs": [],
   "source": [
    "def preprocess_image(img):\n",
    "    img = cv2.resize(img, (112, 112))  \n",
    "    img = img.astype(np.float32) / 255.0\n",
    "    img = np.expand_dims(img, axis=0)\n",
    "    return img"
   ]
  },
  {
   "cell_type": "code",
   "execution_count": 4,
   "metadata": {},
   "outputs": [],
   "source": [
    "app = Flask(__name__)\n",
    "CORS(app, resources={r\"/*\": {\"origins\": \"*\"}})\n",
    "\n",
    "@app.route('/predict', methods=['POST'])\n",
    "\n",
    "def prediction():\n",
    "    actions = ['red', 'eat', 'howcanihelpyou', 'sandwich', 'dream', 'ketchup', 'drink', 'timewhat', 'whatdidyousay', 'sleep',\n",
    "               'blue', 'no', 'bread', 'cereal', 'nothing', 'green', 'seeyoulater', 'howoldareyou', 'nicetomeetyou', 'whereisthebathroom',\n",
    "               'yes', 'goodbye', 'hello', 'hi', 'howareyou', 'ok', 'thanks', 'fine', 'sorry', 'whatsup', 'A', 'B', 'C', 'D', 'E',\n",
    "               'F', 'G', 'H', 'I', 'J', 'K', 'L', 'M', 'N', 'O', 'P', 'Q', 'R', 'S', 'T', 'U', 'V', 'W', 'X', 'Y', 'Z']\n",
    "\n",
    "    try:\n",
    "        if 'video' not in request.files:\n",
    "            return jsonify({'error': 'No video file provided'}), 400\n",
    "        \n",
    "        video_file = request.files['video']\n",
    "        \n",
    "        video_file_path = os.path.join('temp_video.mp4')\n",
    "        video_file.save(video_file_path)\n",
    "\n",
    "        video_capture = cv2.VideoCapture(video_file_path)\n",
    "        frames = []\n",
    "        while video_capture.isOpened():\n",
    "            ret, frame = video_capture.read()\n",
    "            if not ret:\n",
    "                break\n",
    "            frames.append(frame)\n",
    "        \n",
    "        video_capture.release()\n",
    "        os.remove(video_file_path)\n",
    "\n",
    "        processed_frames = np.array([preprocess_image(frame) for frame in frames if frame is not None])\n",
    "        \n",
    "        if len(processed_frames) == 0:\n",
    "            return jsonify({'error': 'No valid frames found'}), 400\n",
    "\n",
    "        predictions = detection.predict(processed_frames)\n",
    "        avg_prediction = np.mean(predictions, axis=0)\n",
    "        predicted_label = actions[np.argmax(avg_prediction)]\n",
    "\n",
    "        frame_list = [cv2.imencode('.jpg', frame)[1].tobytes() for frame in frames if frame is not None]\n",
    "        frame_list_base64 = [base64.b64encode(frame).decode('utf-8') for frame in frame_list]\n",
    "\n",
    "        return jsonify({'label': predicted_label, 'frames': frame_list_base64}), 200\n",
    "    \n",
    "    except Exception as e:\n",
    "        logging.exception(\"Error during prediction\")\n",
    "        return jsonify({'error': str(e)}), 500"
   ]
  },
  {
   "cell_type": "code",
   "execution_count": 5,
   "metadata": {},
   "outputs": [
    {
     "name": "stdout",
     "output_type": "stream",
     "text": [
      " * Serving Flask app '__main__'\n",
      " * Debug mode: on\n"
     ]
    },
    {
     "name": "stderr",
     "output_type": "stream",
     "text": [
      "INFO:werkzeug:\u001b[31m\u001b[1mWARNING: This is a development server. Do not use it in a production deployment. Use a production WSGI server instead.\u001b[0m\n",
      " * Running on all addresses (0.0.0.0)\n",
      " * Running on http://127.0.0.1:5000\n",
      " * Running on http://192.168.10.18:5000\n",
      "INFO:werkzeug:\u001b[33mPress CTRL+C to quit\u001b[0m\n"
     ]
    }
   ],
   "source": [
    "if __name__ == '__main__':\n",
    "    try:\n",
    "        logging.info(\"Starting Flask server...\")\n",
    "        app.run(debug=True, host='0.0.0.0', port=5000, use_reloader=False)\n",
    "    except Exception as e:\n",
    "        logging.error(f\"Error starting Flask server: {e}\")"
   ]
  },
  {
   "cell_type": "code",
   "execution_count": null,
   "metadata": {},
   "outputs": [],
   "source": []
  }
 ],
 "metadata": {
  "interpreter": {
   "hash": "564e8996ae823d981633799313e04a07a4475d3cc96c75fafdf6de034023d64c"
  },
  "kernelspec": {
   "display_name": "Python 3.11.2 64-bit",
   "language": "python",
   "name": "python3"
  },
  "language_info": {
   "codemirror_mode": {
    "name": "ipython",
    "version": 3
   },
   "file_extension": ".py",
   "mimetype": "text/x-python",
   "name": "python",
   "nbconvert_exporter": "python",
   "pygments_lexer": "ipython3",
   "version": "3.11.2"
  },
  "orig_nbformat": 4
 },
 "nbformat": 4,
 "nbformat_minor": 2
}
